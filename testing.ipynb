{
 "cells": [
  {
   "cell_type": "code",
   "execution_count": 33,
   "metadata": {},
   "outputs": [],
   "source": [
    "from pulp import *\n",
    "from collections import Counter"
   ]
  },
  {
   "cell_type": "code",
   "execution_count": 34,
   "metadata": {},
   "outputs": [],
   "source": [
    "players = ['Joe', 'Fred', 'Bob', 'Jen', 'Tom', 'Jack', 'Tim']\n",
    "teams = [1, 2, 3]\n",
    "positions = ['GKP', 'FWD', 'BK']"
   ]
  },
  {
   "cell_type": "code",
   "execution_count": 35,
   "metadata": {},
   "outputs": [],
   "source": [
    "formation = {'GKP': 1, 'FWD': 1, 'BK': 1}\n",
    "points = {'Joe':1, 'Fred':1, 'Bob':2, 'Jen':3, 'Tom':2, 'Jack':1, 'Tim':4}\n",
    "costs = {'Joe':12, 'Fred':11, 'Bob':15, 'Jen':13, 'Tom':14, 'Jack':9, 'Tim':16}\n",
    "Teams = {'Joe':1, 'Fred':1, 'Bob':2, 'Jen':3, 'Tom':2, 'Jack':1, 'Tim':2}\n",
    "Positions = {'Joe':'GKP', 'Fred':'FWD', 'Bob':'FWD', 'Jen':'FWD', 'Tom':'BK', 'Jack':'BK', 'Tim':'BK'}\n",
    "\n",
    "teamsdic = {team:[player for player in players if Teams[player]==team] for team in teams}\n",
    "posdic = {pos:[player for player in players if Positions[player]==pos] for pos in positions}\n",
    "\n"
   ]
  },
  {
   "cell_type": "code",
   "execution_count": 36,
   "metadata": {},
   "outputs": [],
   "source": [
    "Players = pulp.LpVariable.dicts(\"players\", ((player) for player in players), cat='Binary')\n",
    "\n"
   ]
  },
  {
   "cell_type": "code",
   "execution_count": 37,
   "metadata": {},
   "outputs": [
    {
     "data": {
      "text/plain": [
       "{'Joe': players_Joe,\n",
       " 'Fred': players_Fred,\n",
       " 'Bob': players_Bob,\n",
       " 'Jen': players_Jen,\n",
       " 'Tom': players_Tom,\n",
       " 'Jack': players_Jack,\n",
       " 'Tim': players_Tim}"
      ]
     },
     "execution_count": 37,
     "metadata": {},
     "output_type": "execute_result"
    }
   ],
   "source": [
    "Players"
   ]
  },
  {
   "cell_type": "code",
   "execution_count": 38,
   "metadata": {},
   "outputs": [],
   "source": [
    "model = LpProblem('prob', LpMaximize)"
   ]
  },
  {
   "cell_type": "code",
   "execution_count": 39,
   "metadata": {},
   "outputs": [],
   "source": [
    "model += (\n",
    "    lpSum(\n",
    "        [Players[player] * points[player] \n",
    "         for player in players]\n",
    "    )\n",
    ")"
   ]
  },
  {
   "cell_type": "code",
   "execution_count": 40,
   "metadata": {},
   "outputs": [],
   "source": [
    "model += lpSum(Players[player] * costs[player] \n",
    "         for player in players) <= 65"
   ]
  },
  {
   "cell_type": "code",
   "execution_count": 41,
   "metadata": {},
   "outputs": [],
   "source": [
    "\n",
    "for team in teams:\n",
    "     model += lpSum([Players[player]  for player in teamsdic[team]]) <= 2\n",
    "\n",
    "for pos in positions:\n",
    "     model += lpSum([Players[player] for player in posdic[pos]]) == formation[pos]\n",
    "       \n",
    "        \n",
    "        "
   ]
  },
  {
   "cell_type": "code",
   "execution_count": 42,
   "metadata": {},
   "outputs": [
    {
     "data": {
      "text/plain": [
       "1"
      ]
     },
     "execution_count": 42,
     "metadata": {},
     "output_type": "execute_result"
    }
   ],
   "source": [
    "model.solve()"
   ]
  },
  {
   "cell_type": "code",
   "execution_count": 43,
   "metadata": {},
   "outputs": [
    {
     "name": "stdout",
     "output_type": "stream",
     "text": [
      "Joe 1.0 GKP\n",
      "Fred 0.0 FWD\n",
      "Bob 0.0 FWD\n",
      "Jen 1.0 FWD\n",
      "Tom 0.0 BK\n",
      "Jack 0.0 BK\n",
      "Tim 1.0 BK\n"
     ]
    }
   ],
   "source": [
    "Cp=0\n",
    "for var in Players:\n",
    "    var_value = Players[var].varValue\n",
    "    position = Positions[var]\n",
    "    print(var, var_value, position)\n",
    "    if var_value == 1.0:\n",
    "        Cp = Cp + costs[var]"
   ]
  },
  {
   "cell_type": "code",
   "execution_count": 44,
   "metadata": {},
   "outputs": [
    {
     "data": {
      "text/plain": [
       "8.0"
      ]
     },
     "execution_count": 44,
     "metadata": {},
     "output_type": "execute_result"
    }
   ],
   "source": [
    "pulp.value(model.objective)"
   ]
  },
  {
   "cell_type": "code",
   "execution_count": 45,
   "metadata": {},
   "outputs": [
    {
     "data": {
      "text/plain": [
       "41"
      ]
     },
     "execution_count": 45,
     "metadata": {},
     "output_type": "execute_result"
    }
   ],
   "source": [
    "Cp"
   ]
  },
  {
   "cell_type": "code",
   "execution_count": null,
   "metadata": {},
   "outputs": [],
   "source": []
  }
 ],
 "metadata": {
  "kernelspec": {
   "display_name": "Python 3",
   "language": "python",
   "name": "python3"
  },
  "language_info": {
   "codemirror_mode": {
    "name": "ipython",
    "version": 3
   },
   "file_extension": ".py",
   "mimetype": "text/x-python",
   "name": "python",
   "nbconvert_exporter": "python",
   "pygments_lexer": "ipython3",
   "version": "3.6.5"
  }
 },
 "nbformat": 4,
 "nbformat_minor": 2
}
